{
  "nbformat": 4,
  "nbformat_minor": 0,
  "metadata": {
    "colab": {
      "name": "Pandas-Exercise-5: Data Types and Missing Values",
      "provenance": [],
      "authorship_tag": "ABX9TyN0fkx4xf8QT+C8pRE8v5Ck",
      "include_colab_link": true
    },
    "kernelspec": {
      "name": "python3",
      "display_name": "Python 3"
    },
    "language_info": {
      "name": "python"
    }
  },
  "cells": [
    {
      "cell_type": "markdown",
      "metadata": {
        "id": "view-in-github",
        "colab_type": "text"
      },
      "source": [
        "<a href=\"https://colab.research.google.com/github/ShirsaM/My-Google-Colab/blob/main/Pandas_Exercise_5_Data_Types_and_Missing_Values.ipynb\" target=\"_parent\"><img src=\"https://colab.research.google.com/assets/colab-badge.svg\" alt=\"Open In Colab\"/></a>"
      ]
    },
    {
      "cell_type": "markdown",
      "metadata": {
        "id": "9M5LyOGm8_uu"
      },
      "source": [
        "# Data Type\n",
        "The data type for a column in a DataFrame or a Series is known as the dtype.\n",
        "\n",
        "You can use the dtype property to grab the type of a specific column."
      ]
    },
    {
      "cell_type": "code",
      "metadata": {
        "id": "96K3HIx_86cD"
      },
      "source": [
        "reviews.price.dtype\n",
        "\n",
        "#output:-\n",
        "dtype('float64')"
      ],
      "execution_count": null,
      "outputs": []
    },
    {
      "cell_type": "markdown",
      "metadata": {
        "id": "aa1rQ2Pn9Sg2"
      },
      "source": [
        "1) Data types tell us something about how pandas is storing the data internally. float64 means that it's using a 64-bit floating point number; int64 means a similarly sized integer instead, and so on.\n"
      ]
    },
    {
      "cell_type": "markdown",
      "metadata": {
        "id": "vqM3viTM9eA-"
      },
      "source": [
        "2) One peculiarity to keep in mind (and on display very clearly here) is that columns consisting entirely of strings do not get their own type; they are instead given the object type."
      ]
    },
    {
      "cell_type": "markdown",
      "metadata": {
        "id": "N3kioSo09hIm"
      },
      "source": [
        "3) It's possible to convert a column of one type into another wherever such a conversion makes sense by using the astype() function. For example, we may transform the points column from its existing int64 data type into a float64 data type"
      ]
    },
    {
      "cell_type": "code",
      "metadata": {
        "id": "vuwMnNzX9RmB"
      },
      "source": [
        "reviews.points.astype('float64')\n",
        "\n",
        "#output:- \n",
        "0         87.0\n",
        "1         87.0\n",
        "          ... \n",
        "129969    90.0\n",
        "129970    90.0\n",
        "Name: points, Length: 129971, dtype: float64"
      ],
      "execution_count": null,
      "outputs": []
    },
    {
      "cell_type": "code",
      "metadata": {
        "id": "wgjFJICw9rzP"
      },
      "source": [
        "# A DataFrame or Series index has its own dtype, too:\n",
        "\n",
        "reviews.index.dtype\n",
        "\n",
        "#output:-\n",
        "dtype('int64')"
      ],
      "execution_count": null,
      "outputs": []
    },
    {
      "cell_type": "markdown",
      "metadata": {
        "id": "m_ESqxkQ-H7P"
      },
      "source": [
        "## Missing data\n",
        "Entries missing values are given the value NaN, short for \"Not a Number\". For technical reasons these NaN values are always of the float64 dtype.\n",
        "\n"
      ]
    },
    {
      "cell_type": "markdown",
      "metadata": {
        "id": "Vkwornr9-IEQ"
      },
      "source": [
        "Pandas provides some methods specific to missing data. To select NaN entries you can use pd.isnull() (or its companion pd.notnull())."
      ]
    },
    {
      "cell_type": "code",
      "metadata": {
        "id": "Ml3MwVSx94eX"
      },
      "source": [
        "reviews[pd.isnull(reviews.country)]"
      ],
      "execution_count": null,
      "outputs": []
    },
    {
      "cell_type": "markdown",
      "metadata": {
        "id": "d1I0BFwm-hr-"
      },
      "source": [
        "### Note:-\n",
        "Replacing missing values is a common operation. Pandas provides a really handy method for this problem: fillna(). fillna() provides a few different strategies for mitigating such data. For example, we can simply replace each NaN with an \"Unknown\""
      ]
    },
    {
      "cell_type": "code",
      "metadata": {
        "id": "9W0embFR-p51"
      },
      "source": [
        "reviews.region_2.fillna(\"Unknown\")\n",
        "\n",
        "#output:-\n",
        "0         Unknown\n",
        "1         Unknown\n",
        "           ...   \n",
        "129969    Unknown\n",
        "129970    Unknown\n",
        "Name: region_2, Length: 129971, dtype: object"
      ],
      "execution_count": null,
      "outputs": []
    },
    {
      "cell_type": "markdown",
      "metadata": {
        "id": "6VlX3sur_eeQ"
      },
      "source": [
        "we could fill each missing value with the first non-null value that appears sometime after the given record in the database. This is known as the backfill strategy.\n",
        "\n",
        "Alternatively, we may have a non-null value that we would like to replace. For example, suppose that since this dataset was published, reviewer Kerin O'Keefe has changed her Twitter handle from @kerinokeefe to @kerino. One way to reflect this in the dataset is using the replace() method:"
      ]
    },
    {
      "cell_type": "code",
      "metadata": {
        "id": "WjX1xmIm-p9u"
      },
      "source": [
        "reviews.taster_twitter_handle.replace(\"@kerinokeefe\", \"@kerino\")"
      ],
      "execution_count": null,
      "outputs": []
    },
    {
      "cell_type": "markdown",
      "metadata": {
        "id": "5kFH0BRG_mNf"
      },
      "source": [
        "\n",
        "\n",
        "---\n",
        "\n"
      ]
    },
    {
      "cell_type": "code",
      "metadata": {
        "id": "kefCDv2i-qBG"
      },
      "source": [
        "# ques-1 - What is the data type of the points column in the dataset?\n",
        "\n",
        "dtype = reviews.points.dtype"
      ],
      "execution_count": null,
      "outputs": []
    },
    {
      "cell_type": "code",
      "metadata": {
        "id": "c-c8w6r1ADyx"
      },
      "source": [
        "# ques-2 - Create a Series from entries in the points column, but convert the entries to strings. Hint: strings are str in native Python.\n",
        "\n",
        "point_strings = reviews.points.astype(str)"
      ],
      "execution_count": null,
      "outputs": []
    },
    {
      "cell_type": "code",
      "metadata": {
        "id": "68WgEQzWAGHJ"
      },
      "source": [
        "# ques-3 - Sometimes the price column is null. How many reviews in the dataset are missing a price?\n",
        "\n",
        "missing_price_reviews = reviews[reviews.price.isnull()]\n",
        "n_missing_prices = len(missing_price_reviews)\n",
        "# Cute alternative solution: if we sum a boolean series, True is treated as 1 and False as 0\n",
        "n_missing_prices = reviews.price.isnull().sum()\n",
        "# or equivalently:\n",
        "n_missing_prices = pd.isnull(reviews.price).sum()"
      ],
      "execution_count": null,
      "outputs": []
    },
    {
      "cell_type": "code",
      "metadata": {
        "id": "bT7jJkBnAS2H"
      },
      "source": [
        "# ques-4 - What are the most common wine-producing regions? Create a Series counting the number of times each value occurs in the region_1 field. This field is often missing data, so replace missing values with Unknown. Sort in descending order. Your output should look something like this:\n",
        "\n",
        "reviews_per_region = reviews.region_1.fillna('Unknown').value_counts().sort_values(ascending=False)"
      ],
      "execution_count": null,
      "outputs": []
    },
    {
      "cell_type": "code",
      "metadata": {
        "id": "b_LHlA_UAS6O"
      },
      "source": [
        ""
      ],
      "execution_count": null,
      "outputs": []
    }
  ]
}