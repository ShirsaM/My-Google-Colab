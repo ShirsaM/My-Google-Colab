{
  "nbformat": 4,
  "nbformat_minor": 0,
  "metadata": {
    "colab": {
      "name": "Pandas-Exercise-4: Grouping and Sorting ",
      "provenance": [],
      "collapsed_sections": [],
      "authorship_tag": "ABX9TyPZtqbUEd8J8AU2A9/IEquy",
      "include_colab_link": true
    },
    "kernelspec": {
      "name": "python3",
      "display_name": "Python 3"
    },
    "language_info": {
      "name": "python"
    }
  },
  "cells": [
    {
      "cell_type": "markdown",
      "metadata": {
        "id": "view-in-github",
        "colab_type": "text"
      },
      "source": [
        "<a href=\"https://colab.research.google.com/github/ShirsaM/My-Google-Colab/blob/main/Pandas_Exercise_4_Grouping_and_Sorting.ipynb\" target=\"_parent\"><img src=\"https://colab.research.google.com/assets/colab-badge.svg\" alt=\"Open In Colab\"/></a>"
      ]
    },
    {
      "cell_type": "markdown",
      "metadata": {
        "id": "0uSO4nELU6-M"
      },
      "source": [
        "# Grouping \n",
        "You can think of each group we generate as being a slice of our DataFrame containing only data with values that match. This DataFrame is accessible to us directly using the apply() method, and we can then manipulate the data in any way we see fit.\n",
        "\n"
      ]
    },
    {
      "cell_type": "code",
      "metadata": {
        "id": "6vya9m2KTICa"
      },
      "source": [
        "import pandas as pd"
      ],
      "execution_count": 1,
      "outputs": []
    },
    {
      "cell_type": "code",
      "metadata": {
        "id": "V91ag-LfVOHk"
      },
      "source": [
        "reviews.groupby('points').points.count()\n",
        "\n",
        "#this groups points column and counts no. of repetetion"
      ],
      "execution_count": null,
      "outputs": []
    },
    {
      "cell_type": "code",
      "metadata": {
        "id": "xyhHTjCNVq6x"
      },
      "source": [
        "reviews.groupby('points').price.min()\n",
        "\n",
        "#this groups points column w.r.t. minimum price\n",
        "# output:- \n",
        "points\n",
        "80      5.0\n",
        "81      5.0\n",
        "       ... \n",
        "99     44.0\n",
        "100    80.0\n",
        "Name: price, Length: 21, dtype: float64"
      ],
      "execution_count": null,
      "outputs": []
    },
    {
      "cell_type": "code",
      "metadata": {
        "id": "x3WuhSPNVtzY"
      },
      "source": [
        "reviews.groupby('winery').apply(lambda df: df.title.iloc[0])\n",
        "\n",
        "# this groups column winery and then maps winery to its corresponding title\n",
        "# output:-\n",
        "winery\n",
        "1+1=3                          1+1=3 NV Rosé Sparkling (Cava)\n",
        "10 Knots                 10 Knots 2010 Viognier (Paso Robles)\n",
        "                                  ...                        \n",
        "àMaurice    àMaurice 2013 Fred Estate Syrah (Walla Walla V...\n",
        "Štoka                         Štoka 2009 Izbrani Teran (Kras)\n",
        "Length: 16757, dtype: object"
      ],
      "execution_count": null,
      "outputs": []
    },
    {
      "cell_type": "code",
      "metadata": {
        "id": "EpjJ7q2jVt4x"
      },
      "source": [
        "reviews.groupby(['country', 'province']).apply(lambda df: df.loc[df.points.idxmax()])\n",
        "\n",
        "# this groups columns country and province and maps data frame with respective points from max to min"
      ],
      "execution_count": null,
      "outputs": []
    },
    {
      "cell_type": "code",
      "metadata": {
        "id": "o1Rh7Np7VuAI"
      },
      "source": [
        "reviews.groupby(['country']).price.agg([len, min, max])\n",
        "\n",
        "#this groups country with price aggregated in length, min and max\n",
        "# output:-\n",
        "\t          len\tmin\tmax\n",
        "country\t\t\t\n",
        "Argentina\t3800.0\t4.0\t230.0\n",
        "Armenia\t2.0\t14.0\t15.0\n",
        "...\t...\t...\t...\n",
        "Ukraine\t14.0\t6.0\t13.0\n",
        "Uruguay\t109.0\t10.0\t130.0"
      ],
      "execution_count": null,
      "outputs": []
    },
    {
      "cell_type": "markdown",
      "metadata": {
        "id": "L19Xm1gSXs9v"
      },
      "source": [
        "## Multi-indexes"
      ]
    },
    {
      "cell_type": "code",
      "metadata": {
        "id": "RahGhOm8VuE5"
      },
      "source": [
        "countries_reviewed = reviews.groupby(['country', 'province']).description.agg([len])\n",
        "mi = countries_reviewed.index\n",
        "type(mi)\n",
        "\n",
        "# output:-\n",
        "pandas.core.indexes.multi.MultiIndex"
      ],
      "execution_count": null,
      "outputs": []
    },
    {
      "cell_type": "code",
      "metadata": {
        "id": "A9z9aXzPZAzv"
      },
      "source": [
        "# However, in general the multi-index method you will use most often is the one for converting back to a regular index, the reset_index() method:\n",
        "\n",
        "countries_reviewed.reset_index()"
      ],
      "execution_count": null,
      "outputs": []
    },
    {
      "cell_type": "markdown",
      "metadata": {
        "id": "i0_lFvyRaQNO"
      },
      "source": [
        "# Sorting\n",
        "Looking again at countries_reviewed we can see that grouping returns data in index order, not in value order. That is to say, when outputting the result of a groupby, the order of the rows is dependent on the values in the index, not in the data.\n",
        "\n",
        "To get data in the order want it in we can sort it ourselves. The sort_values() method is handy for this."
      ]
    },
    {
      "cell_type": "code",
      "metadata": {
        "id": "xWpaOViMZA2M"
      },
      "source": [
        "countries_reviewed = countries_reviewed.reset_index()\n",
        "countries_reviewed.sort_values(by='len')\n",
        "\n",
        "#output:- \n",
        "    country\tprovince\t          len\n",
        "179\tGreece\tMuscat of Kefallonian\t1\n",
        "192\tGreece\tSterea Ellada\t        1\n",
        "...\t...\t...\t...\n",
        "415\tUS\tWashington\t           8639\n",
        "392\tUS\tCalifornia\t          36247"
      ],
      "execution_count": null,
      "outputs": []
    },
    {
      "cell_type": "markdown",
      "metadata": {
        "id": "O425aJ0Rbvm8"
      },
      "source": [
        "sort_values() defaults to an ascending sort, where the lowest values go first. However, most of the time we want a descending sort"
      ]
    },
    {
      "cell_type": "code",
      "metadata": {
        "id": "g3ZvXaRAZJ4P"
      },
      "source": [
        "countries_reviewed.sort_values(by='len', ascending=False)"
      ],
      "execution_count": null,
      "outputs": []
    },
    {
      "cell_type": "code",
      "metadata": {
        "id": "IQyJ9BQdZJ7n"
      },
      "source": [
        "# To sort by index values, use the companion method sort_index(). This method has the same arguments and default order:\n",
        "\n",
        "countries_reviewed.sort_index()"
      ],
      "execution_count": null,
      "outputs": []
    },
    {
      "cell_type": "code",
      "metadata": {
        "id": "auebjCKgcCJv"
      },
      "source": [
        "countries_reviewed.sort_values(by=['country', 'len'])\n",
        "\n",
        "# sort by more than one column at a time:"
      ],
      "execution_count": null,
      "outputs": []
    },
    {
      "cell_type": "markdown",
      "metadata": {
        "id": "2L7vL2obcOUI"
      },
      "source": [
        "\n",
        "\n",
        "---\n",
        "\n",
        "\n",
        "\n",
        "---\n",
        "\n"
      ]
    },
    {
      "cell_type": "code",
      "metadata": {
        "id": "UH3Ix9zXcNPf"
      },
      "source": [
        "#ques 1 - Who are the most common wine reviewers in the dataset? Create a Series whose index is the taster_twitter_handle category from the dataset, and whose values count how many reviews each person wrote.\n",
        "\n",
        "reviews_written = reviews.groupby('taster_twitter_handle').size()\n",
        "or\n",
        "\n",
        "reviews_written = reviews.groupby('taster_twitter_handle').taster_twitter_handle.count()\n"
      ],
      "execution_count": null,
      "outputs": []
    },
    {
      "cell_type": "code",
      "metadata": {
        "id": "q2I3cvCrcSvn"
      },
      "source": [
        "#ques 2 - What is the best wine I can buy for a given amount of money? Create a Series whose index is wine prices and whose values is the maximum number of points a wine costing that much was given in a review. Sort the values by price, ascending (so that 4.0 dollars is at the top and 3300.0 dollars is at the bottom).\n",
        "\n",
        "best_rating_per_price = reviews.groupby('price')['points'].max().sort_index()"
      ],
      "execution_count": null,
      "outputs": []
    },
    {
      "cell_type": "code",
      "metadata": {
        "id": "J1AhQ0BkcSzH"
      },
      "source": [
        "#ques 3 - What are the minimum and maximum prices for each variety of wine? Create a DataFrame whose index is the variety category from the dataset and whose values are the min and max values thereof.\n",
        "\n",
        "price_extremes = price_extremes = reviews.groupby('variety').price.agg([min, max])"
      ],
      "execution_count": null,
      "outputs": []
    },
    {
      "cell_type": "code",
      "metadata": {
        "id": "ehyOoUxecY7a"
      },
      "source": [
        "#ques 4 - What are the most expensive wine varieties? Create a variable sorted_varieties containing a copy of the dataframe from the previous question where varieties are sorted in descending order based on minimum price, then on maximum price (to break ties).\n",
        "\n",
        "sorted_varieties = price_extremes.sort_values(by=['min', 'max'], ascending=False)"
      ],
      "execution_count": null,
      "outputs": []
    },
    {
      "cell_type": "code",
      "metadata": {
        "id": "yTPNjNtScZDZ"
      },
      "source": [
        "#ques 5 - Create a Series whose index is reviewers and whose values is the average review score given out by that reviewer. Hint: you will need the taster_name and points columns.\n",
        "\n",
        "reviewer_mean_ratings = reviews.groupby('taster_name').points.mean()"
      ],
      "execution_count": null,
      "outputs": []
    },
    {
      "cell_type": "code",
      "metadata": {
        "id": "4O7fd69NcZVZ"
      },
      "source": [
        "#ques 6 - What combination of countries and varieties are most common? Create a Series whose index is a MultiIndexof {country, variety} pairs. For example, a pinot noir produced in the US should map to {\"US\", \"Pinot Noir\"}. Sort the values in the Series in descending order based on wine count.\n",
        "\n",
        "country_variety_counts = reviews.groupby(['country', 'variety']).size().sort_values(ascending=False)"
      ],
      "execution_count": null,
      "outputs": []
    }
  ]
}