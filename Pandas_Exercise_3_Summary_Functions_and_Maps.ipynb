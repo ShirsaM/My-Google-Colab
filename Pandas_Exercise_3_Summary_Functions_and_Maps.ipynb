{
  "nbformat": 4,
  "nbformat_minor": 0,
  "metadata": {
    "colab": {
      "name": "Pandas-Exercise-3: Summary Functions and Maps",
      "provenance": [],
      "authorship_tag": "ABX9TyM2PYJA+ZaKLxSnY2sNzp4o",
      "include_colab_link": true
    },
    "kernelspec": {
      "name": "python3",
      "display_name": "Python 3"
    },
    "language_info": {
      "name": "python"
    }
  },
  "cells": [
    {
      "cell_type": "markdown",
      "metadata": {
        "id": "view-in-github",
        "colab_type": "text"
      },
      "source": [
        "<a href=\"https://colab.research.google.com/github/ShirsaM/My-Google-Colab/blob/main/Pandas_Exercise_3_Summary_Functions_and_Maps.ipynb\" target=\"_parent\"><img src=\"https://colab.research.google.com/assets/colab-badge.svg\" alt=\"Open In Colab\"/></a>"
      ]
    },
    {
      "cell_type": "markdown",
      "metadata": {
        "id": "2lN-B_g4dhTK"
      },
      "source": [
        "## Summary functions\n",
        "Pandas provides many simple \"summary functions\" (not an official name) which restructure the data in some useful way."
      ]
    },
    {
      "cell_type": "markdown",
      "metadata": {
        "id": "OYR-0BWIdj7q"
      },
      "source": [
        "**`describe` method**\n",
        "\n",
        "This method generates a high-level summary of the attributes of the given column. It is type-aware, meaning that its output changes based on the data type of the input. The output above only makes sense for numerical data; for string data its different."
      ]
    },
    {
      "cell_type": "code",
      "metadata": {
        "id": "sWz-xpE0ecCE"
      },
      "source": [
        "import pandas as pd\n",
        "import numpy as np"
      ],
      "execution_count": 3,
      "outputs": []
    },
    {
      "cell_type": "code",
      "metadata": {
        "id": "nBSW93thfAQL"
      },
      "source": [
        "reviews.points.describe()\n",
        "#output - (for NUMERICAL DATA)\n",
        "#count    129971.000000\n",
        "#mean         88.447138\n",
        "             ...      \n",
        "#75%          91.000000\n",
        "#max         100.000000\n",
        "#Name: points, Length: 8, dtype: float64\n",
        "\n",
        "\n",
        "reviews.taster_name.describe()\n",
        "#output - (for STRING DATA)\n",
        "#count         103727\n",
        "#unique            19\n",
        "#top       Roger Voss\n",
        "#freq           25514\n",
        "#Name: taster_name, dtype: object"
      ],
      "execution_count": null,
      "outputs": []
    },
    {
      "cell_type": "markdown",
      "metadata": {
        "id": "89x5cQMZf8ef"
      },
      "source": [
        "**`mean` method**\n",
        "\n",
        "to see the mean of the points allotted (e.g. how well an averagely rated wine does), we can use the mean() function"
      ]
    },
    {
      "cell_type": "code",
      "metadata": {
        "id": "6p4G18hTetrA"
      },
      "source": [
        "reviews.points.mean()\n"
      ],
      "execution_count": null,
      "outputs": []
    },
    {
      "cell_type": "markdown",
      "metadata": {
        "id": "akXK8fvMgHLA"
      },
      "source": [
        "**`unique` method**\n",
        "\n",
        "To see a list of unique values we can use the unique() function:"
      ]
    },
    {
      "cell_type": "code",
      "metadata": {
        "id": "_z73FiB9gN8g"
      },
      "source": [
        "reviews.taster_name.unique()\n",
        "#output - array(['Kerin O’Keefe', 'Roger Voss', 'Paul Gregutt','Alexander Peartree', 'Michael Schachner',...])"
      ],
      "execution_count": null,
      "outputs": []
    },
    {
      "cell_type": "markdown",
      "metadata": {
        "id": "n4HV5T-ogWny"
      },
      "source": [
        "**`value_counts` method** \n",
        "\n",
        "To see a list of unique values and how often they occur in the dataset, we can use the value_counts() method"
      ]
    },
    {
      "cell_type": "code",
      "metadata": {
        "id": "rjEs75adgiyB"
      },
      "source": [
        "reviews.taster_name.value_counts()\n",
        "#output - Roger Voss           25514\n",
        "#Michael Schachner    15134\n",
        "                     ...  \n",
        "#Fiona Adams             27\n",
        "#Christina Pickard        6\n",
        "#Name: taster_name, Length: 19, dtype: int64"
      ],
      "execution_count": null,
      "outputs": []
    },
    {
      "cell_type": "markdown",
      "metadata": {
        "id": "WQAhpQ23guWx"
      },
      "source": [
        "## Maps\n",
        "\n",
        "A map is a term, borrowed from mathematics, for a function that takes one set of values and \"maps\" them to another set of values. In data science we often have a need for creating new representations from existing data, or for transforming data from the format it is in now to the format that we want it to be in later. Maps are what handle this work, making them extremely important for getting your work done!\n",
        "\n",
        "There are two mapping methods that you will use often."
      ]
    },
    {
      "cell_type": "markdown",
      "metadata": {
        "id": "IKAQQtFOhUFx"
      },
      "source": [
        "1) `map()` is the first, and slightly simpler one."
      ]
    },
    {
      "cell_type": "code",
      "metadata": {
        "id": "WWU5Q4dohTNi"
      },
      "source": [
        "review_points_mean = reviews.points.mean()\n",
        "reviews.points.map(lambda p: p - review_points_mean)\n",
        "\n",
        "# The function you pass to map() should expect a single value from the Series (a point value, in the above example), and return a transformed version of that value. map() returns a new Series where all the values have been transformed by your function.\n",
        "\n",
        "# apply() is the equivalent method if we want to transform a whole DataFrame by calling a custom method on each row.\n",
        "def remean_points(row):\n",
        "    row.points = row.points - review_points_mean\n",
        "    return row\n",
        "\n",
        "reviews.apply(remean_points, axis='columns')\n",
        "\n",
        "\n",
        "#Note that map() and apply() return new, transformed Series and DataFrames, respectively. They don't modify the original data they're called on. If we look at the first row of reviews, we can see that it still has its original points value.\n"
      ],
      "execution_count": null,
      "outputs": []
    },
    {
      "cell_type": "code",
      "metadata": {
        "id": "KTRq0ravhTZ4"
      },
      "source": [
        "# Pandas will also understand what to do if we perform these operations between Series of equal length.\n",
        "\n",
        "reviews.country + \" - \" + reviews.region_1\n",
        "\n",
        "#output- \n",
        "#0            Italy - Etna\n",
        "#1                     NaN\n",
        "#               ...       \n",
        "#129969    France - Alsace\n",
        "#129970    France - Alsace\n",
        "#Length: 129971, dtype: object"
      ],
      "execution_count": null,
      "outputs": []
    },
    {
      "cell_type": "code",
      "metadata": {
        "id": "Cn3ySDhemmwH"
      },
      "source": [
        "# question - 1\n",
        "#What is the median of the points column in the reviews DataFrame?\n",
        "median_points = reviews.points.median()\n",
        "\n",
        "# question - 2\n",
        "#What countries are represented in the dataset? (Your answer should not include any duplicates.)\n",
        "countries = reviews.country.unique()\n",
        "\n",
        "# question - 3\n",
        "#How often does each country appear in the dataset? Create a Series reviews_per_country mapping countries to the count of reviews of wines from that country.\n",
        "reviews_per_country = reviews.country.value_counts()\n",
        "\n",
        "# question - 4\n",
        "#Create variable centered_price containing a version of the price column with the mean price subtracted.\n",
        "centered_price = reviews.price - reviews.price.mean()\n",
        "\n",
        "# question - 5\n",
        "#I'm an economical wine buyer. Which wine is the \"best bargain\"? Create a variable bargain_wine with the title of the wine with the highest points-to-price ratio in the dataset.\n",
        "bargain_idx = (reviews.points / reviews.price).idxmax()\n",
        "bargain_wine = reviews.loc[bargain_idx, 'title']\n",
        "\n",
        "# question - 6\n",
        "#There are only so many words you can use when describing a bottle of wine. Is a wine more likely to be \"tropical\" or \"fruity\"? Create a Series descriptor_counts counting how many times each of these two words appears in the description column in the dataset.\n",
        "n_trop = reviews.description.map(lambda desc: \"tropical\" in desc).sum()\n",
        "n_fruity = reviews.description.map(lambda desc: \"fruity\" in desc).sum()\n",
        "descriptor_counts = pd.Series([n_trop, n_fruity], index=['tropical', 'fruity'])\n",
        "\n",
        "# question - 7\n",
        "#We'd like to host these wine reviews on our website, but a rating system ranging from 80 to 100 points is too hard to understand - we'd like to translate them into simple star ratings. A score of 95 or higher counts as 3 stars, a score of at least 85 but less than 95 is 2 stars. Any other score is 1 star.\n",
        "#Create a series star_ratings with the number of stars corresponding to each review in the dataset.\n",
        "def stars(row):\n",
        "    if row.country == 'Canada':\n",
        "        return 3\n",
        "    elif row.points >= 95:\n",
        "        return 3\n",
        "    elif row.points >= 85:\n",
        "        return 2\n",
        "    else:\n",
        "        return 1\n",
        "\n",
        "star_ratings = reviews.apply(stars, axis='columns')\n"
      ],
      "execution_count": null,
      "outputs": []
    }
  ]
}