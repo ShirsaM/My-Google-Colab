{
  "nbformat": 4,
  "nbformat_minor": 0,
  "metadata": {
    "colab": {
      "name": "Pandas-Exercise-6: Renaming and Combining",
      "provenance": [],
      "collapsed_sections": [],
      "authorship_tag": "ABX9TyN7iqXyk2QDN3BvSMliQYXm",
      "include_colab_link": true
    },
    "kernelspec": {
      "name": "python3",
      "display_name": "Python 3"
    },
    "language_info": {
      "name": "python"
    }
  },
  "cells": [
    {
      "cell_type": "markdown",
      "metadata": {
        "id": "view-in-github",
        "colab_type": "text"
      },
      "source": [
        "<a href=\"https://colab.research.google.com/github/ShirsaM/My-Google-Colab/blob/main/Pandas_Exercise_6_Renaming_and_Combining.ipynb\" target=\"_parent\"><img src=\"https://colab.research.google.com/assets/colab-badge.svg\" alt=\"Open In Colab\"/></a>"
      ]
    },
    {
      "cell_type": "markdown",
      "metadata": {
        "id": "mAWbM-YCHK0G"
      },
      "source": [
        "# Renaming\n",
        "Oftentimes data will come to us with column names, index names, or other naming conventions that we are not satisfied with. In that case, you'll learn how to use pandas functions to change the names of the offending entries to something better."
      ]
    },
    {
      "cell_type": "markdown",
      "metadata": {
        "id": "hvLA_mBkHb1g"
      },
      "source": [
        "The first function we'll introduce here is `rename()`, which lets you change index names and/or column names. For example, to change the points column in our dataset to score, we would do:"
      ]
    },
    {
      "cell_type": "code",
      "metadata": {
        "id": "wU60UGDtHDkL"
      },
      "source": [
        "reviews.rename(columns={'points': 'score'})\n",
        "\n",
        "#renames points as score"
      ],
      "execution_count": null,
      "outputs": []
    },
    {
      "cell_type": "code",
      "metadata": {
        "id": "BYgv5OTfHsDh"
      },
      "source": [
        "reviews.rename(index={0: 'firstEntry', 1: 'secondEntry'})"
      ],
      "execution_count": null,
      "outputs": []
    },
    {
      "cell_type": "markdown",
      "metadata": {
        "id": "SHvQeKA-H9-f"
      },
      "source": [
        "You'll probably rename columns very often, but rename index values very rarely. For that, set_index() is usually more convenient."
      ]
    },
    {
      "cell_type": "markdown",
      "metadata": {
        "id": "uw1-Wfp-ID63"
      },
      "source": [
        "Both the row index and the column index can have their own name attribute. The complimentary `rename_axis()` method may be used to change these names. For example:"
      ]
    },
    {
      "cell_type": "code",
      "metadata": {
        "id": "qN6x8DbeHwKA"
      },
      "source": [
        "reviews.rename_axis(\"wines\", axis='rows').rename_axis(\"fields\", axis='columns')"
      ],
      "execution_count": null,
      "outputs": []
    },
    {
      "cell_type": "markdown",
      "metadata": {
        "id": "i_1Tka9cIVN3"
      },
      "source": [
        "# Combining\n",
        "When performing operations on a dataset, we will sometimes need to combine different DataFrames and/or Series in non-trivial ways. Pandas has three core methods for doing this. In order of increasing complexity, these are concat(), join(), and merge(). Most of what merge() can do can also be done more simply with join()"
      ]
    },
    {
      "cell_type": "markdown",
      "metadata": {
        "id": "s1MEjfBlIlin"
      },
      "source": [
        "The simplest combining method is concat(). Given a list of elements, this function will smush those elements together along an axis."
      ]
    },
    {
      "cell_type": "code",
      "metadata": {
        "id": "puaYkUd2IGlu"
      },
      "source": [
        "canadian_youtube = pd.read_csv(\"../input/youtube-new/CAvideos.csv\")\n",
        "british_youtube = pd.read_csv(\"../input/youtube-new/GBvideos.csv\")\n",
        "\n",
        "pd.concat([canadian_youtube, british_youtube])"
      ],
      "execution_count": null,
      "outputs": []
    },
    {
      "cell_type": "markdown",
      "metadata": {
        "id": "TvsGM3WRI0GH"
      },
      "source": [
        "`join()` lets you combine different DataFrame objects which have an index in common. For example, to pull down videos that happened to be trending on the same day in both Canada and the UK, we could do the following:"
      ]
    },
    {
      "cell_type": "code",
      "metadata": {
        "id": "Jxl9LiWBHwNn"
      },
      "source": [
        "left = canadian_youtube.set_index(['title', 'trending_date'])\n",
        "right = british_youtube.set_index(['title', 'trending_date'])\n",
        "\n",
        "left.join(right, lsuffix='_CAN', rsuffix='_UK')"
      ],
      "execution_count": null,
      "outputs": []
    },
    {
      "cell_type": "markdown",
      "metadata": {
        "id": "AY5pO39iJQcv"
      },
      "source": [
        "The lsuffix and rsuffix parameters are necessary here because the data has the same column names in both British and Canadian datasets."
      ]
    },
    {
      "cell_type": "markdown",
      "metadata": {
        "id": "H1Ta4FiXJQ-3"
      },
      "source": [
        "\n",
        "\n",
        "---\n",
        "\n"
      ]
    },
    {
      "cell_type": "code",
      "metadata": {
        "id": "fRyjpGncJRN_"
      },
      "source": [
        "# ques-1: region_1 and region_2 are pretty uninformative names for locale columns in the dataset. Create a copy of reviews with these columns renamed to region and locale, respectively.\n",
        "\n",
        "renamed = reviews.rename(columns= {\"region_1\" : \"region\" , \"region_2\" : \"locale\"})"
      ],
      "execution_count": null,
      "outputs": []
    },
    {
      "cell_type": "code",
      "metadata": {
        "id": "aZjvG6yMJRVG"
      },
      "source": [
        "# ques-2 : Set the index name in the dataset to wines.\n",
        "\n",
        "reindexed = reviews.rename_axis('wines', axis='rows')"
      ],
      "execution_count": null,
      "outputs": []
    },
    {
      "cell_type": "code",
      "metadata": {
        "id": "0U15MSLhJU4g"
      },
      "source": [
        "# ques-3 : The Things on Reddit dataset includes product links from a selection of top-ranked forums (\"subreddits\") on reddit.com. Run the cell below to load a dataframe of products mentioned on the /r/gaming subreddit and another dataframe for products mentioned on the r//movies subreddit.\n",
        "\n",
        "combined_products = pd.concat([gaming_products, movie_products])"
      ],
      "execution_count": null,
      "outputs": []
    },
    {
      "cell_type": "code",
      "metadata": {
        "id": "CcGjaD0AJU-v"
      },
      "source": [
        "# ques-4 : The Powerlifting Database dataset on Kaggle includes one CSV table for powerlifting meets and a separate one for powerlifting competitors. Run the cell below to load these datasets into dataframes:\n",
        "\n",
        "powerlifting_meets = pd.read_csv(\"../input/powerlifting-database/meets.csv\")\n",
        "powerlifting_competitors = pd.read_csv(\"../input/powerlifting-database/openpowerlifting.csv\")\n",
        "\n",
        "powerlifting_combined = powerlifting_meets.set_index(\"MeetID\").join(powerlifting_competitors.set_index(\"MeetID\"))"
      ],
      "execution_count": null,
      "outputs": []
    }
  ]
}