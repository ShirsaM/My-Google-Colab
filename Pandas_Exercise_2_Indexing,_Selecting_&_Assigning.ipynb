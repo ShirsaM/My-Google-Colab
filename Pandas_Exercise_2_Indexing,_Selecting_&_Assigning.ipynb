{
  "nbformat": 4,
  "nbformat_minor": 0,
  "metadata": {
    "colab": {
      "name": "Pandas-Exercise-2: Indexing, Selecting & Assigning",
      "provenance": [],
      "authorship_tag": "ABX9TyMHVgA1y4ZpSofyCwao/uE1",
      "include_colab_link": true
    },
    "kernelspec": {
      "name": "python3",
      "display_name": "Python 3"
    },
    "language_info": {
      "name": "python"
    }
  },
  "cells": [
    {
      "cell_type": "markdown",
      "metadata": {
        "id": "view-in-github",
        "colab_type": "text"
      },
      "source": [
        "<a href=\"https://colab.research.google.com/github/ShirsaM/My-Google-Colab/blob/main/Pandas_Exercise_2_Indexing%2C_Selecting_%26_Assigning.ipynb\" target=\"_parent\"><img src=\"https://colab.research.google.com/assets/colab-badge.svg\" alt=\"Open In Colab\"/></a>"
      ]
    },
    {
      "cell_type": "markdown",
      "metadata": {
        "id": "T1tmBTuM59Y5"
      },
      "source": [
        "In Python, we can access the property of an object by accessing it as an attribute.\n",
        "Example:- `reviews.country`\n",
        "where reviews ia a DataFrame & country is a property inside it.\n",
        "\n",
        "> OR\n",
        "\n",
        "We can access its values using the indexing ([]) operator.\n",
        "Example:- `reviews['country']` "
      ]
    },
    {
      "cell_type": "markdown",
      "metadata": {
        "id": "_IqNRkdA59wp"
      },
      "source": [
        "## Indexing in pandas\n",
        "\n",
        "Pandas has its own accessor operators, `loc` and `iloc`\n",
        "\n",
        "There are 2 types of Selection:- "
      ]
    },
    {
      "cell_type": "markdown",
      "metadata": {
        "id": "GPYCDeav7a3y"
      },
      "source": [
        "### **1. Index-based selection**\n",
        "\n",
        "selecting data based on its numerical position in the data. `iloc` follows this paradigm."
      ]
    },
    {
      "cell_type": "code",
      "metadata": {
        "id": "isV85_pi7tBw"
      },
      "source": [
        "# To select the first row of data in a DataFrame\n",
        "reviews.iloc[0]\n",
        "\n",
        "# To get a column with iloc\n",
        "reviews.iloc[: , 0]"
      ],
      "execution_count": null,
      "outputs": []
    },
    {
      "cell_type": "markdown",
      "metadata": {
        "id": "UU_XkZ5u8Ozw"
      },
      "source": [
        "Both loc and iloc are row-first, column-second.\n",
        "\n",
        "On its own, the : operator, which also comes from native Python, means \"everything\"."
      ]
    },
    {
      "cell_type": "code",
      "metadata": {
        "id": "GiS2N8_d8ToQ"
      },
      "source": [
        "#  to select just the second and third entries of a column, we would do\n",
        "reviews.iloc[1:3 , 0]\n",
        "\n",
        "# It's also possible to pass a list:\n",
        "reviews.iloc[[0,1,2] , 0]\n",
        "\n",
        "# negative numbers can be used in selection. This will start counting forwards from the end of the values.\n",
        "reviews.iloc[-5:]         #-------------------------> gives the last five elements of the dataset.\n"
      ],
      "execution_count": null,
      "outputs": []
    },
    {
      "cell_type": "markdown",
      "metadata": {
        "id": "PsciNSuM7oHh"
      },
      "source": [
        "### **2. Label-based selection**\n",
        "The second paradigm for attribute selection is the one followed by the loc operator: label-based selection. In this paradigm, it's the data index value, not its position, which matters."
      ]
    },
    {
      "cell_type": "code",
      "metadata": {
        "id": "59_zfu4c521A"
      },
      "source": [
        "# to get the first entry in reviews, we would now do the following:\n",
        "reviews.loc[0 , 'country']\n",
        "\n",
        "# below code gives all rows & only thye mentioned 3 column entries\n",
        "reviews.loc[:, ['taster_name', 'taster_twitter_handle', 'points']]"
      ],
      "execution_count": null,
      "outputs": []
    },
    {
      "cell_type": "markdown",
      "metadata": {
        "id": "3Lu86WEjUUIP"
      },
      "source": [
        "**Note:-** `iloc` uses the Python stdlib indexing scheme, where the first element of the range is included and the last one excluded. So `0:10` will select entries 0,...,9. `loc`, meanwhile, indexes inclusively. So `0:10` will select entries 0,...,10."
      ]
    },
    {
      "cell_type": "markdown",
      "metadata": {
        "id": "C5Ph5n63Ur0D"
      },
      "source": [
        "## Manipulating the index\n",
        "The set_index() method can be used to manipulate the index in any way we see fit.\n",
        "\n",
        "Example:- reviews.set_index(\"title\")"
      ]
    },
    {
      "cell_type": "markdown",
      "metadata": {
        "id": "YOd1wcD4WBvr"
      },
      "source": [
        "## Conditional selection"
      ]
    },
    {
      "cell_type": "code",
      "metadata": {
        "id": "uvm9T43TUiju"
      },
      "source": [
        "# checking if each wine is Italian or not\n",
        "reviews.country == 'Italy'\n",
        "\n",
        "# This operation produced a Series of True/False booleans"
      ],
      "execution_count": null,
      "outputs": []
    },
    {
      "cell_type": "markdown",
      "metadata": {
        "id": "Cf0gSl2rb0we"
      },
      "source": [
        "Pandas comes with a few built-in conditional selectors, two of which we will highlight here.\n",
        "\n",
        "**The first is `isin`. isin is lets you select data whose value \"is in\" a list of values.**\n",
        "\n",
        "**The second is `isnull` (and its companion notnull). These methods let you highlight values which are (or are not) empty (NaN).**"
      ]
    },
    {
      "cell_type": "code",
      "metadata": {
        "id": "IpE6cIUrcDLA"
      },
      "source": [
        "# For example of isin , here's how we can use it to select wines only from Italy or France:\n",
        "reviews.loc[reviews.country.isin ([\"Italy\" , \"France\"])]\n",
        "\n",
        "# For example of isnull, to filter out wines lacking a price tag in the dataset, here's what we would do:\n",
        "reviews.loc[reviews.price.notnull()]\n"
      ],
      "execution_count": null,
      "outputs": []
    },
    {
      "cell_type": "markdown",
      "metadata": {
        "id": "o0S5gy4qdpxp"
      },
      "source": [
        "## Assigning data\n",
        "assigning data to a DataFrame is easy. You can assign either a constant value:\n",
        "\n",
        "Example:- reviews['critic'] = 'everyone'\n",
        "\n",
        "Or with an iterable of values:\n",
        "\n",
        "Example:- reviews['index_backwards'] = range(len(reviews), 0, -1)"
      ]
    },
    {
      "cell_type": "markdown",
      "metadata": {
        "id": "VmRP7ckfeDC1"
      },
      "source": [
        "\n",
        "\n",
        "---\n",
        "\n"
      ]
    },
    {
      "cell_type": "code",
      "metadata": {
        "id": "5PFMkpAod5cl"
      },
      "source": [
        "import pandas as pd"
      ],
      "execution_count": 2,
      "outputs": []
    },
    {
      "cell_type": "code",
      "metadata": {
        "id": "Y0-8SGoSeNq9"
      },
      "source": [
        "# Select the description column from reviews and assign the result to the variable desc.\n",
        "desc = reviews.loc[: , \"description\"]\n",
        "# OR\n",
        "desc = reviews.description\n",
        "# OR\n",
        "desc = reviews[\"description\"]"
      ],
      "execution_count": null,
      "outputs": []
    },
    {
      "cell_type": "code",
      "metadata": {
        "id": "tNf57iPoeN9H"
      },
      "source": [
        "# Select the first value from the description column of reviews, assigning it to variable first_description.\n",
        "first_description = reviews.iloc[0,1]\n",
        "​# OR\n",
        "first_description = reviews.description.iloc[0]"
      ],
      "execution_count": null,
      "outputs": []
    },
    {
      "cell_type": "code",
      "metadata": {
        "id": "mbnPBFsjjDps"
      },
      "source": [
        "# Select the first row of data (the first record) from reviews, assigning it to the variable first_row.\n",
        "first_row = reviews.iloc[0]"
      ],
      "execution_count": null,
      "outputs": []
    },
    {
      "cell_type": "code",
      "metadata": {
        "id": "s8Hd_N8RjISk"
      },
      "source": [
        "# Select the first 10 values from the description column in reviews, assigning the result to variable first_descriptions.\n",
        "first_descriptions = reviews.iloc[:10 , 1]\n",
        "# OR\n",
        "first_descriptions = reviews.description.iloc[:10]\n"
      ],
      "execution_count": null,
      "outputs": []
    },
    {
      "cell_type": "code",
      "metadata": {
        "id": "nhjw1gxcjTY1"
      },
      "source": [
        "# Select the records with index labels 1, 2, 3, 5, and 8, assigning the result to the variable sample_reviews.\n",
        "sample_reviews = reviews.iloc[[1,2,3,5,8] , :]\n"
      ],
      "execution_count": null,
      "outputs": []
    },
    {
      "cell_type": "code",
      "metadata": {
        "id": "BfL_rc2GjhqU"
      },
      "source": [
        "# Create a variable df containing the country, province, region_1, and region_2 columns of the records with the index labels 0, 1, 10, and 100. In other words, generate the following DataFrame:\n",
        "df = reviews.loc[[0,1,10,100] , [\"country\" , \"province\" , \"region_1\" , \"region_2\"]]\n"
      ],
      "execution_count": null,
      "outputs": []
    },
    {
      "cell_type": "code",
      "metadata": {
        "id": "bCplOVxNjohf"
      },
      "source": [
        "# Create a variable df containing the country and variety columns of the first 100 records.\n",
        "df = reviews.loc[:99 , [\"country\" , \"variety\"]]\n"
      ],
      "execution_count": null,
      "outputs": []
    },
    {
      "cell_type": "code",
      "metadata": {
        "id": "WoDYTP1gjrLi"
      },
      "source": [
        "# Create a DataFrame italian_wines containing reviews of wines made in Italy. Hint: reviews.country equals what?\n",
        "italian_wines = reviews[reviews.country == \"Italy\"]"
      ],
      "execution_count": null,
      "outputs": []
    },
    {
      "cell_type": "code",
      "metadata": {
        "id": "1UXi4u1Vj1LQ"
      },
      "source": [
        "# Create a DataFrame top_oceania_wines containing all reviews with at least 95 points (out of 100) for wines from Australia or New Zealand.\n",
        "top_oceania_wines = reviews.loc[(reviews.country.isin([\"Australia\" , \"New Zealand\"])) & (reviews.points >= 95)]"
      ],
      "execution_count": null,
      "outputs": []
    }
  ]
}